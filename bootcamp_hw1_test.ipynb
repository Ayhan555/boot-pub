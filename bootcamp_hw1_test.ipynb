{
  "nbformat": 4,
  "nbformat_minor": 0,
  "metadata": {
    "colab": {
      "provenance": [],
      "authorship_tag": "ABX9TyMjBoh5vaj9TgsOVCj6KMCq",
      "include_colab_link": true
    },
    "kernelspec": {
      "name": "python3",
      "display_name": "Python 3"
    },
    "language_info": {
      "name": "python"
    }
  },
  "cells": [
    {
      "cell_type": "markdown",
      "metadata": {
        "id": "view-in-github",
        "colab_type": "text"
      },
      "source": [
        "<a href=\"https://colab.research.google.com/github/Ayhan555/boot-pub/blob/main/bootcamp_hw1_test.ipynb\" target=\"_parent\"><img src=\"https://colab.research.google.com/assets/colab-badge.svg\" alt=\"Open In Colab\"/></a>"
      ]
    },
    {
      "cell_type": "code",
      "execution_count": null,
      "metadata": {
        "id": "kZl61-FoN1hT"
      },
      "outputs": [],
      "source": [
        "def count_vowels(word):\n",
        "  vowels=[\"a\",\"o\",\"i\", \"e\", \"u\", 'A', 'O', 'I', 'E', 'U']\n",
        "  count=0\n",
        "  for letter in word:\n",
        "    if letter in vowels:\n",
        "      count+=1\n",
        "  print(count)"
      ]
    },
    {
      "cell_type": "code",
      "source": [
        "count_vowels(\"WORD\")"
      ],
      "metadata": {
        "colab": {
          "base_uri": "https://localhost:8080/"
        },
        "id": "4dpLcK3DRcNY",
        "outputId": "4f991ab5-cd90-4f37-c507-3efc055fdf66"
      },
      "execution_count": null,
      "outputs": [
        {
          "output_type": "stream",
          "name": "stdout",
          "text": [
            "1\n"
          ]
        }
      ]
    },
    {
      "cell_type": "code",
      "source": [
        "animals=['tiger', 'elephant', 'monkey', 'zebra', 'panther']\n",
        "caps=[]\n",
        "for animal in animals:\n",
        "  a=animal.upper()\n",
        "  caps.append(a)\n",
        "print(caps)"
      ],
      "metadata": {
        "colab": {
          "base_uri": "https://localhost:8080/"
        },
        "id": "Ao2G3HcaODl2",
        "outputId": "188a426e-a0e6-433a-c8d1-3166f3d60bd4"
      },
      "execution_count": null,
      "outputs": [
        {
          "output_type": "stream",
          "name": "stdout",
          "text": [
            "['TIGER', 'ELEPHANT', 'MONKEY', 'ZEBRA', 'PANTHER']\n"
          ]
        }
      ]
    },
    {
      "cell_type": "code",
      "source": [
        "for i in range(1,21):\n",
        "  if i%2==0:\n",
        "    print(f\"{i} is an even number\")\n",
        "  else:\n",
        "    print(f\"{i} is an odd number\")"
      ],
      "metadata": {
        "colab": {
          "base_uri": "https://localhost:8080/"
        },
        "id": "6hMn28-4QD8q",
        "outputId": "29cf987c-96e7-4dc8-b933-0b5e960e087a"
      },
      "execution_count": null,
      "outputs": [
        {
          "output_type": "stream",
          "name": "stdout",
          "text": [
            "1 is an odd number\n",
            "2 is an even number\n",
            "3 is an odd number\n",
            "4 is an even number\n",
            "5 is an odd number\n",
            "6 is an even number\n",
            "7 is an odd number\n",
            "8 is an even number\n",
            "9 is an odd number\n",
            "10 is an even number\n",
            "11 is an odd number\n",
            "12 is an even number\n",
            "13 is an odd number\n",
            "14 is an even number\n",
            "15 is an odd number\n",
            "16 is an even number\n",
            "17 is an odd number\n",
            "18 is an even number\n",
            "19 is an odd number\n",
            "20 is an even number\n"
          ]
        }
      ]
    },
    {
      "cell_type": "code",
      "source": [
        "def sum_of_integers(a, b):\n",
        "  return a+b"
      ],
      "metadata": {
        "id": "smgfAlfxQ61b"
      },
      "execution_count": null,
      "outputs": []
    },
    {
      "cell_type": "code",
      "source": [],
      "metadata": {
        "id": "eRxkNDhHXE3U"
      },
      "execution_count": null,
      "outputs": []
    }
  ]
}